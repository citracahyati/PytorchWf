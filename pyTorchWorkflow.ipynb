{
  "nbformat": 4,
  "nbformat_minor": 0,
  "metadata": {
    "colab": {
      "name": "pyTorchWorkflow.ipynb",
      "provenance": [],
      "collapsed_sections": []
    },
    "kernelspec": {
      "name": "python3",
      "display_name": "Python 3"
    }
  },
  "cells": [
    {
      "cell_type": "markdown",
      "metadata": {
        "id": "mCoK1Mldq7LG"
      },
      "source": [
        "SAMPLE DATA"
      ]
    },
    {
      "cell_type": "code",
      "metadata": {
        "id": "VcsT28Sip4eB"
      },
      "source": [
        "import numpy as np\n",
        "from sklearn.model_selection import train_test_split"
      ],
      "execution_count": 1,
      "outputs": []
    },
    {
      "cell_type": "code",
      "metadata": {
        "id": "BqxY07l9qIxz",
        "outputId": "1430f9d7-fbe3-4f81-efa8-803ef68cbaab",
        "colab": {
          "base_uri": "https://localhost:8080/"
        }
      },
      "source": [
        "X = np.random.rand(500, 4)\n",
        "y = np.random.rand(500, 3)\n",
        "\n",
        "X_train, X_test, y_train, y_test = train_test_split(X, y, test_size=0.2, random_state=42)\n",
        "X_train.shape, X_test.shape, y_train.shape, y_test.shape"
      ],
      "execution_count": 2,
      "outputs": [
        {
          "output_type": "execute_result",
          "data": {
            "text/plain": [
              "((400, 4), (100, 4), (400, 3), (100, 3))"
            ]
          },
          "metadata": {
            "tags": []
          },
          "execution_count": 2
        }
      ]
    },
    {
      "cell_type": "markdown",
      "metadata": {
        "id": "AYC9MtVWrY01"
      },
      "source": [
        "STEP 1: Dataset & Dataloader\n",
        "\n",
        "Dataloader digunakan untuk menghasilkan minibatch"
      ]
    },
    {
      "cell_type": "code",
      "metadata": {
        "id": "XOX-69Wwq3mK"
      },
      "source": [
        "import torch\n",
        "from torch.utils.data import DataLoader, TensorDataset"
      ],
      "execution_count": 3,
      "outputs": []
    },
    {
      "cell_type": "code",
      "metadata": {
        "id": "vbwXfW6ErHc_"
      },
      "source": [
        "#Data yang akan di proses harus diubah ke dalam bentuk Tensor bukan dengan numpy\n",
        "\n",
        "X_train = torch.FloatTensor(X_train)\n",
        "X_test = torch.FloatTensor(X_test)\n",
        "y_train = torch.FloatTensor(y_train)\n",
        "y_test = torch.FloatTensor(y_test)"
      ],
      "execution_count": 4,
      "outputs": []
    },
    {
      "cell_type": "code",
      "metadata": {
        "id": "nLdI7qjVrHZP",
        "outputId": "9b77d483-5a15-4a9d-ba36-ac8d34dd76e4",
        "colab": {
          "base_uri": "https://localhost:8080/"
        }
      },
      "source": [
        "X_train"
      ],
      "execution_count": 5,
      "outputs": [
        {
          "output_type": "execute_result",
          "data": {
            "text/plain": [
              "tensor([[0.5606, 0.3730, 0.9128, 0.9704],\n",
              "        [0.7741, 0.1693, 0.7157, 0.0672],\n",
              "        [0.7639, 0.5456, 0.2491, 0.3214],\n",
              "        ...,\n",
              "        [0.3513, 0.0861, 0.8725, 0.4994],\n",
              "        [0.1703, 0.7638, 0.5494, 0.6033],\n",
              "        [0.8861, 0.3780, 0.2652, 0.0916]])"
            ]
          },
          "metadata": {
            "tags": []
          },
          "execution_count": 5
        }
      ]
    },
    {
      "cell_type": "code",
      "metadata": {
        "id": "i5vusPaDs6zE"
      },
      "source": [
        "#Membuat Dataset\n",
        "\n",
        "train_set = TensorDataset(X_train, y_train)\n",
        "trainloader = DataLoader(train_set, batch_size=32, shuffle=True) \n",
        "\n",
        "test_set = TensorDataset(X_test, y_test)\n",
        "testloader = DataLoader(test_set, batch_size=32) "
      ],
      "execution_count": 6,
      "outputs": []
    },
    {
      "cell_type": "code",
      "metadata": {
        "id": "cJmfh0setVOn",
        "outputId": "ef46f089-c6eb-4d2f-e894-72603a8efe82",
        "colab": {
          "base_uri": "https://localhost:8080/"
        }
      },
      "source": [
        "train_set.tensors"
      ],
      "execution_count": 7,
      "outputs": [
        {
          "output_type": "execute_result",
          "data": {
            "text/plain": [
              "(tensor([[0.5606, 0.3730, 0.9128, 0.9704],\n",
              "         [0.7741, 0.1693, 0.7157, 0.0672],\n",
              "         [0.7639, 0.5456, 0.2491, 0.3214],\n",
              "         ...,\n",
              "         [0.3513, 0.0861, 0.8725, 0.4994],\n",
              "         [0.1703, 0.7638, 0.5494, 0.6033],\n",
              "         [0.8861, 0.3780, 0.2652, 0.0916]]), tensor([[0.1868, 0.6631, 0.6231],\n",
              "         [0.7223, 0.6451, 0.4690],\n",
              "         [0.6484, 0.4826, 0.9849],\n",
              "         ...,\n",
              "         [0.6465, 0.7921, 0.4174],\n",
              "         [0.0447, 0.5301, 0.7084],\n",
              "         [0.8715, 0.8084, 0.3419]]))"
            ]
          },
          "metadata": {
            "tags": []
          },
          "execution_count": 7
        }
      ]
    },
    {
      "cell_type": "code",
      "metadata": {
        "id": "QYxLUksWuPU4"
      },
      "source": [
        " #Perulangan data\n",
        " iterator = iter(trainloader)"
      ],
      "execution_count": 8,
      "outputs": []
    },
    {
      "cell_type": "code",
      "metadata": {
        "id": "TLa1caoIw8vw",
        "outputId": "042ad94e-db3a-4f32-981d-ca9b81179b1d",
        "colab": {
          "base_uri": "https://localhost:8080/"
        }
      },
      "source": [
        "iterator.next()"
      ],
      "execution_count": 9,
      "outputs": [
        {
          "output_type": "execute_result",
          "data": {
            "text/plain": [
              "[tensor([[0.2604, 0.2921, 0.9938, 0.4849],\n",
              "         [0.9290, 0.1238, 0.1037, 0.9681],\n",
              "         [0.8861, 0.3780, 0.2652, 0.0916],\n",
              "         [0.9800, 0.6393, 0.7712, 0.4340],\n",
              "         [0.6167, 0.8891, 0.5470, 0.1847],\n",
              "         [0.8559, 0.0537, 0.8242, 0.6896],\n",
              "         [0.8801, 0.2993, 0.8221, 0.0567],\n",
              "         [0.3127, 0.9691, 0.9134, 0.8814],\n",
              "         [0.5973, 0.2864, 0.6396, 0.8009],\n",
              "         [0.9070, 0.0144, 0.8463, 0.1696],\n",
              "         [0.9890, 0.7531, 0.7069, 0.4173],\n",
              "         [0.2867, 0.2291, 0.8760, 0.9930],\n",
              "         [0.9521, 0.8802, 0.0169, 0.3660],\n",
              "         [0.4670, 0.7395, 0.4013, 0.1945],\n",
              "         [0.9665, 0.8938, 0.9160, 0.7607],\n",
              "         [0.4715, 0.5628, 0.1512, 0.2056],\n",
              "         [0.1486, 0.6029, 0.3506, 0.1288],\n",
              "         [0.1045, 0.5468, 0.0778, 0.0518],\n",
              "         [0.6823, 0.6904, 0.8886, 0.0827],\n",
              "         [0.7741, 0.1693, 0.7157, 0.0672],\n",
              "         [0.0206, 0.6883, 0.0436, 0.8251],\n",
              "         [0.5236, 0.8236, 0.1103, 0.5479],\n",
              "         [0.6639, 0.8350, 0.0482, 0.6883],\n",
              "         [0.7640, 0.4208, 0.9558, 0.5344],\n",
              "         [0.9233, 0.4715, 0.7826, 0.5078],\n",
              "         [0.1960, 0.5139, 0.8142, 0.7619],\n",
              "         [0.4939, 0.0279, 0.4788, 0.5018],\n",
              "         [0.1986, 0.8846, 0.5645, 0.5663],\n",
              "         [0.4489, 0.3152, 0.4005, 0.7959],\n",
              "         [0.0941, 0.4669, 0.4949, 0.6045],\n",
              "         [0.5003, 0.5320, 0.5092, 0.7688],\n",
              "         [0.5147, 0.0718, 0.7621, 0.8254]]),\n",
              " tensor([[3.4198e-01, 7.0044e-01, 1.7840e-01],\n",
              "         [8.8419e-01, 9.1958e-01, 1.0073e-01],\n",
              "         [8.7148e-01, 8.0843e-01, 3.4189e-01],\n",
              "         [5.8259e-01, 2.5569e-01, 9.0109e-01],\n",
              "         [5.1649e-01, 9.7152e-01, 8.4503e-01],\n",
              "         [4.1537e-01, 2.5944e-01, 3.6052e-01],\n",
              "         [2.1728e-01, 5.7288e-01, 6.8203e-02],\n",
              "         [4.1414e-01, 2.5973e-01, 9.4994e-01],\n",
              "         [4.1686e-01, 3.1265e-01, 5.0157e-01],\n",
              "         [5.1505e-02, 3.5313e-01, 4.9660e-01],\n",
              "         [7.0384e-01, 2.9271e-01, 3.2915e-01],\n",
              "         [3.3068e-01, 9.8713e-01, 4.8523e-01],\n",
              "         [6.4217e-01, 6.7234e-01, 8.3663e-01],\n",
              "         [6.1260e-04, 2.0698e-01, 3.8215e-01],\n",
              "         [6.2061e-01, 2.8358e-01, 8.5988e-01],\n",
              "         [8.3738e-01, 8.4721e-01, 5.2752e-02],\n",
              "         [6.6828e-01, 1.4522e-01, 7.6585e-01],\n",
              "         [9.2139e-01, 9.7551e-01, 5.9918e-01],\n",
              "         [4.2963e-01, 9.1540e-01, 2.6275e-01],\n",
              "         [7.2233e-01, 6.4511e-01, 4.6902e-01],\n",
              "         [7.0060e-01, 9.2872e-01, 3.0696e-01],\n",
              "         [1.8529e-01, 9.5167e-01, 3.0408e-02],\n",
              "         [3.9728e-01, 6.3560e-01, 1.4584e-01],\n",
              "         [6.7499e-01, 4.4881e-01, 5.8622e-01],\n",
              "         [1.1239e-01, 3.1771e-01, 7.3216e-02],\n",
              "         [2.5497e-01, 7.5346e-01, 5.8865e-01],\n",
              "         [9.8505e-01, 8.6493e-01, 6.5107e-01],\n",
              "         [1.3053e-01, 6.8407e-01, 9.4703e-01],\n",
              "         [3.5384e-01, 9.2781e-01, 5.6754e-01],\n",
              "         [5.1518e-01, 3.7192e-01, 4.2121e-02],\n",
              "         [6.2574e-01, 5.2727e-01, 8.1644e-01],\n",
              "         [7.4790e-03, 8.4135e-02, 6.1360e-02]])]"
            ]
          },
          "metadata": {
            "tags": []
          },
          "execution_count": 9
        }
      ]
    },
    {
      "cell_type": "markdown",
      "metadata": {
        "id": "vQGOMLvmuwKl"
      },
      "source": [
        "2. BANGUN ARSITEKTUR\n"
      ]
    },
    {
      "cell_type": "code",
      "metadata": {
        "id": "5VUHouymu130"
      },
      "source": [
        "from torch import nn"
      ],
      "execution_count": 10,
      "outputs": []
    },
    {
      "cell_type": "code",
      "metadata": {
        "id": "uwgUm4Ibu2mh",
        "outputId": "92d87d7b-74df-4e98-9519-2526f04f11b1",
        "colab": {
          "base_uri": "https://localhost:8080/"
        }
      },
      "source": [
        "nn.Sequential(\n",
        "    nn.Linear(4, 3),\n",
        "    nn.ReLU(),\n",
        "    nn.Linear(3, 4),\n",
        "    nn.ReLU(),\n",
        "    nn.Linear(4, 3),\n",
        "    nn.Sigmoid()\n",
        ")"
      ],
      "execution_count": 11,
      "outputs": [
        {
          "output_type": "execute_result",
          "data": {
            "text/plain": [
              "Sequential(\n",
              "  (0): Linear(in_features=4, out_features=3, bias=True)\n",
              "  (1): ReLU()\n",
              "  (2): Linear(in_features=3, out_features=4, bias=True)\n",
              "  (3): ReLU()\n",
              "  (4): Linear(in_features=4, out_features=3, bias=True)\n",
              "  (5): Sigmoid()\n",
              ")"
            ]
          },
          "metadata": {
            "tags": []
          },
          "execution_count": 11
        }
      ]
    },
    {
      "cell_type": "markdown",
      "metadata": {
        "id": "9Y7Iobxvxjuz"
      },
      "source": [
        "3. Training Preparation"
      ]
    },
    {
      "cell_type": "code",
      "metadata": {
        "id": "uNK9uz8BxpiK",
        "outputId": "d9419b9c-4ab2-4551-e8e8-0e26355b1a8c",
        "colab": {
          "base_uri": "https://localhost:8080/"
        }
      },
      "source": [
        "#Model\n",
        "\n",
        "nn.Sequential(\n",
        "    nn.Linear(4, 3),\n",
        "    nn.ReLU(),\n",
        "    nn.Linear(3, 4),\n",
        "    nn.ReLU(),\n",
        "    nn.Linear(4, 3),\n",
        "    nn.Sigmoid()\n",
        ")"
      ],
      "execution_count": 12,
      "outputs": [
        {
          "output_type": "execute_result",
          "data": {
            "text/plain": [
              "Sequential(\n",
              "  (0): Linear(in_features=4, out_features=3, bias=True)\n",
              "  (1): ReLU()\n",
              "  (2): Linear(in_features=3, out_features=4, bias=True)\n",
              "  (3): ReLU()\n",
              "  (4): Linear(in_features=4, out_features=3, bias=True)\n",
              "  (5): Sigmoid()\n",
              ")"
            ]
          },
          "metadata": {
            "tags": []
          },
          "execution_count": 12
        }
      ]
    },
    {
      "cell_type": "code",
      "metadata": {
        "id": "tNjHFLBDdV1X"
      },
      "source": [
        "model = nn.Sequential(\n",
        "    nn.Linear(4, 3),\n",
        "    nn.ReLU(),\n",
        "    nn.Linear(3, 4),\n",
        "    nn.ReLU(),\n",
        "    nn.Linear(4, 3),\n",
        "    nn.Sigmoid()\n",
        ")"
      ],
      "execution_count": 18,
      "outputs": []
    },
    {
      "cell_type": "code",
      "metadata": {
        "id": "gZGHk2IQu2p0"
      },
      "source": [
        "#Criterion - sebuah fungsi yang digunakan untuk menghitung LOSS\n",
        "\n",
        "criterion = nn.MSELoss() #model diakhiri linear -> untuk regresi\n",
        "criterion = nn.NLLLoss() #model diakhiri logsoftmax -> multiclass clf\n",
        "criterion = nn.BCELoss() #model diakhiri sigmoid -> binnary clf, multilable "
      ],
      "execution_count": 13,
      "outputs": []
    },
    {
      "cell_type": "code",
      "metadata": {
        "id": "7ITT5aXYu2jn"
      },
      "source": [
        "#Optimizer\n",
        "\n",
        "from torch import optim"
      ],
      "execution_count": 15,
      "outputs": []
    },
    {
      "cell_type": "code",
      "metadata": {
        "id": "mBhWtx-ZXzBT"
      },
      "source": [
        "optimizer = optim.AdamW(model.parameters(), lr=0.001)"
      ],
      "execution_count": 19,
      "outputs": []
    },
    {
      "cell_type": "markdown",
      "metadata": {
        "id": "CC63JTrQZL4m"
      },
      "source": [
        "4. TRAINING LOOP"
      ]
    },
    {
      "cell_type": "code",
      "metadata": {
        "id": "UtTiU0afZNju",
        "outputId": "e4f4fc19-0be5-4e12-d1c1-c9d02047945d",
        "colab": {
          "base_uri": "https://localhost:8080/"
        }
      },
      "source": [
        "epochs = 500\n",
        "for i in range(epochs):\n",
        "  model.train()\n",
        "  for feature, target in trainloader:\n",
        "    output = model(feature) #FeedForward\n",
        "    loss = criterion(output, target) #hitungLoss\n",
        "    loss.backward() #backprop\n",
        "\n",
        "    optimizer.step() #update weight\n",
        "    optimizer.zero_grad()\n",
        "  \n",
        "  print(f\"\\rEpoch: {i+1}/{epochs}\", end=\"\")"
      ],
      "execution_count": 22,
      "outputs": [
        {
          "output_type": "stream",
          "text": [
            "Epoch: 500/500"
          ],
          "name": "stdout"
        }
      ]
    },
    {
      "cell_type": "code",
      "metadata": {
        "id": "_qFTVxN5cCAj",
        "outputId": "7421ca5e-0d28-4acb-df02-3c97eba49876",
        "colab": {
          "base_uri": "https://localhost:8080/"
        }
      },
      "source": [
        "epochs = 500\n",
        "train_cost = []\n",
        "for i in range(epochs):\n",
        "  model.train()\n",
        "  cost = 0\n",
        "  for feature, target in trainloader:\n",
        "    output = model(feature) #FeedForward\n",
        "    loss = criterion(output, target) #hitungLoss\n",
        "    loss.backward() #backprop\n",
        "\n",
        "    optimizer.step() #update weight\n",
        "    optimizer.zero_grad()\n",
        "  \n",
        "    cost += loss.item() * feature.shape[0]\n",
        "  train_cost.append(cost / len(train_set))\n",
        "\n",
        "  print(f\"\\rEpoch: {i+1:4}/{epochs:4} | train_cost: {train_cost[-1]:4f}\", end=\"\")"
      ],
      "execution_count": 23,
      "outputs": [
        {
          "output_type": "stream",
          "text": [
            "Epoch:  500/ 500 | train_cost: 0.688545"
          ],
          "name": "stdout"
        }
      ]
    },
    {
      "cell_type": "code",
      "metadata": {
        "id": "rtybd3kRfpF7"
      },
      "source": [
        "import matplotlib.pyplot as plt "
      ],
      "execution_count": 24,
      "outputs": []
    },
    {
      "cell_type": "code",
      "metadata": {
        "id": "cSRLx9H0gJy6",
        "outputId": "0d85c903-4bac-4363-e16e-5411d0b4d932",
        "colab": {
          "base_uri": "https://localhost:8080/",
          "height": 282
        }
      },
      "source": [
        "plt.plot(train_cost)"
      ],
      "execution_count": 25,
      "outputs": [
        {
          "output_type": "execute_result",
          "data": {
            "text/plain": [
              "[<matplotlib.lines.Line2D at 0x7fc35878bbe0>]"
            ]
          },
          "metadata": {
            "tags": []
          },
          "execution_count": 25
        },
        {
          "output_type": "display_data",
          "data": {
            "image/png": "[encoded data removed]",
            "text/plain": [
              "<Figure size 432x288 with 1 Axes>"
            ]
          },
          "metadata": {
            "tags": [],
            "needs_background": "light"
          }
        }
      ]
    },
    {
      "cell_type": "code",
      "metadata": {
        "id": "gRf18m7KgODS"
      },
      "source": [
        ""
      ],
      "execution_count": null,
      "outputs": []
    }
  ]
}